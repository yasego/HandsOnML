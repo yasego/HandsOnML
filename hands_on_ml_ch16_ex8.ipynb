{
  "nbformat": 4,
  "nbformat_minor": 0,
  "metadata": {
    "colab": {
      "provenance": [],
      "authorship_tag": "ABX9TyPkQuGJPlQoUJvvV8fEBGkJ",
      "include_colab_link": true
    },
    "kernelspec": {
      "name": "python3",
      "display_name": "Python 3"
    },
    "language_info": {
      "name": "python"
    }
  },
  "cells": [
    {
      "cell_type": "markdown",
      "metadata": {
        "id": "view-in-github",
        "colab_type": "text"
      },
      "source": [
        "<a href=\"https://colab.research.google.com/github/yasego/HandsOnML/blob/main/hands_on_ml_ch16_ex8.ipynb\" target=\"_parent\"><img src=\"https://colab.research.google.com/assets/colab-badge.svg\" alt=\"Open In Colab\"/></a>"
      ]
    },
    {
      "cell_type": "markdown",
      "source": [
        "**8.**\n",
        "연습문제: 호크라이터와 슈미트후버는 LSTM에 관한 논문에서 임베딩된 레버 문법을 사용했습니다. 이는 ‘BPBTSXXVPSEPE’와 같은 문자열을 만드는 인공 문법입니다. 이 주제에 대한 제니 오어의 훌륭한 소개(https://homl.info/108)%EB%A5%BC 확인해보세요. 특정 임베딩된 레버 문법 하나를 선택하고(제니 오어의 페이지에 있는 것과 같은), 그다음에 문자열이 이 문법을 따르는지 아닌지 구별하는 RNN을 훈련해보세요. 먼저 문법에 맞는 문자열 50%와 그렇지 않은 문자열 50%를 담은 훈련 배치를 생성하는 함수를 만들어야 합니다."
      ],
      "metadata": {
        "id": "v5zch3h-CvEK"
      }
    },
    {
      "cell_type": "markdown",
      "source": [
        "\n",
        "---\n",
        "\n",
        "\n",
        "임베딩된 레버 문법(Embedded Reber Grammar)은 신경망 모델의 학습에 이용되는 인공 언어입니다. 이 문법은 이전에 Carlisle에 의해 제안된 Reber Grammar의 변형으로, Reber Grammar에서 사용되는 규칙들을 임베딩하여 더 복잡한 문법을 만들어냅니다.\n",
        "\n",
        "Embedded Reber Grammar은 일련의 문자열을 생성하는 규칙으로 이루어져 있습니다. 이 규칙은 여러 개의 층(layer)으로 구성되어 있으며, 각 층은 다양한 문자열과 전이(transition) 규칙으로 이루어져 있습니다. 이전 층에서 생성된 문자열이 다음 층에서 입력으로 사용되어 새로운 문자열을 생성하는 방식으로 작동합니다.\n",
        "\n",
        "이러한 Embedded Reber Grammar은 신경망 모델을 학습시킬 때 사용되며, 모델이 복잡한 문법을 이해하고 생성하는 능력을 향상시키는 데에 도움이 됩니다. 이를 통해 자연어 처리 분야에서 문자열 생성 문제를 해결하는 데에 이용되기도 합니다.\n",
        "\n",
        "\n",
        "\n",
        "\n"
      ],
      "metadata": {
        "id": "0r9PSgklCkNZ"
      }
    },
    {
      "cell_type": "markdown",
      "source": [
        "---\n",
        "\n",
        "Reber 문법은 1976년에 Psychologist Karl Reber가 제안한 인공 언어 모델로, 의미없는 문자열을 생성하고 분석하는 데 사용됩니다.\n",
        "\n",
        "*  BT<reber string>TE : legal \n",
        "*  BP<reber string>PE : legal \n",
        "*  BP<reber string>TE : illegal \n",
        "\n",
        "\n",
        "![image.png](data:image/png;base64,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)\n"
      ],
      "metadata": {
        "id": "KDcvELNVEJQB"
      }
    },
    {
      "cell_type": "code",
      "source": [
        "#@title\n",
        "# 파이썬 ≥3.5 필수\n",
        "import sys\n",
        "assert sys.version_info >= (3, 5)\n",
        "\n",
        "# 사이킷런 ≥0.20 필수\n",
        "import sklearn\n",
        "assert sklearn.__version__ >= \"0.20\"\n",
        "\n",
        "try:\n",
        "    # %tensorflow_version은 코랩에서만 동작합니다.\n",
        "    %tensorflow_version 2.x\n",
        "    %pip install -q -U tensorflow-addons\n",
        "    %pip install -q -U transformers\n",
        "    IS_COLAB = True\n",
        "except Exception:\n",
        "    IS_COLAB = False\n",
        "\n",
        "# 텐서플로 ≥2.0 필수\n",
        "import tensorflow as tf\n",
        "from tensorflow import keras\n",
        "assert tf.__version__ >= \"2.0\"\n",
        "\n",
        "if not tf.config.list_physical_devices('GPU'):\n",
        "    print(\"감지된 GPU가 없습니다. GPU가 없으면 LSTM과 CNN이 매우 느릴 수 있습니다.\")\n",
        "    if IS_COLAB:\n",
        "        print(\"런타임 > 런타임 유형 변경 메뉴를 선택하고 하드웨어 가속기로 GPU를 고르세요.\")\n",
        "\n",
        "# 공통 모듈 임포트\n",
        "import numpy as np\n",
        "import os\n",
        "\n",
        "# 노트북 실행 결과를 동일하게 유지하기 위해\n",
        "np.random.seed(42)\n",
        "tf.random.set_seed(42)\n",
        "\n",
        "# 깔끔한 그래프 출력을 위해\n",
        "%matplotlib inline\n",
        "import matplotlib as mpl\n",
        "import matplotlib.pyplot as plt\n",
        "mpl.rc('axes', labelsize=14)\n",
        "mpl.rc('xtick', labelsize=12)\n",
        "mpl.rc('ytick', labelsize=12)"
      ],
      "metadata": {
        "colab": {
          "base_uri": "https://localhost:8080/"
        },
        "cellView": "form",
        "id": "xDbThpYsGTVi",
        "outputId": "ce86d1b4-a607-45a3-b5d7-5b05f54c36fb"
      },
      "execution_count": 2,
      "outputs": [
        {
          "output_type": "stream",
          "name": "stdout",
          "text": [
            "Colab only includes TensorFlow 2.x; %tensorflow_version has no effect.\n",
            "\u001b[2K     \u001b[90m━━━━━━━━━━━━━━━━━━━━━━━━━━━━━━━━━━━━━━━━\u001b[0m \u001b[32m1.1/1.1 MB\u001b[0m \u001b[31m13.6 MB/s\u001b[0m eta \u001b[36m0:00:00\u001b[0m\n",
            "\u001b[2K     \u001b[90m━━━━━━━━━━━━━━━━━━━━━━━━━━━━━━━━━━━━━━━━\u001b[0m \u001b[32m6.8/6.8 MB\u001b[0m \u001b[31m43.7 MB/s\u001b[0m eta \u001b[36m0:00:00\u001b[0m\n",
            "\u001b[2K     \u001b[90m━━━━━━━━━━━━━━━━━━━━━━━━━━━━━━━━━━━━━━━━\u001b[0m \u001b[32m7.8/7.8 MB\u001b[0m \u001b[31m63.0 MB/s\u001b[0m eta \u001b[36m0:00:00\u001b[0m\n",
            "\u001b[2K     \u001b[90m━━━━━━━━━━━━━━━━━━━━━━━━━━━━━━━━━━━━━━\u001b[0m \u001b[32m199.8/199.8 KB\u001b[0m \u001b[31m17.3 MB/s\u001b[0m eta \u001b[36m0:00:00\u001b[0m\n",
            "\u001b[?25h감지된 GPU가 없습니다. GPU가 없으면 LSTM과 CNN이 매우 느릴 수 있습니다.\n",
            "런타임 > 런타임 유형 변경 메뉴를 선택하고 하드웨어 가속기로 GPU를 고르세요.\n"
          ]
        }
      ]
    },
    {
      "cell_type": "code",
      "source": [
        "\n",
        "#먼저 문법에 맞는 문자열을 생성하는 함수가 필요합니다. \n",
        "#이 문법은 각 상태에서 가능한 전이 상태의 리스트입니다. \n",
        "#하나의 전이는 출력할 문자열(또는 생성할 문법)과 다음 상태를 지정합니다.\n",
        "\n",
        "\n",
        "default_reber_grammar = [\n",
        "    [(\"B\", 1)],           # (state 0) =B=>(state 1)\n",
        "    [(\"T\", 2), (\"P\", 3)], # (state 1) =T=>(state 2) or =P=>(state 3)\n",
        "    [(\"S\", 2), (\"X\", 4)], # (state 2) =S=>(state 2) or =X=>(state 4)\n",
        "    [(\"T\", 3), (\"V\", 5)], # and so on...\n",
        "    [(\"X\", 3), (\"S\", 6)],\n",
        "    [(\"P\", 4), (\"V\", 6)],\n",
        "    [(\"E\", None)]]        # (state 6) =E=>(terminal state)\n",
        "\n",
        "embedded_reber_grammar = [\n",
        "    [(\"B\", 1)],\n",
        "    [(\"T\", 2), (\"P\", 3)],\n",
        "    [(default_reber_grammar, 4)],\n",
        "    [(default_reber_grammar, 5)],\n",
        "    [(\"T\", 6)],\n",
        "    [(\"P\", 6)],\n",
        "    [(\"E\", None)]]\n",
        "\n",
        "def generate_string(grammar):\n",
        "    state = 0\n",
        "    output = []\n",
        "    while state is not None:\n",
        "        index = np.random.randint(len(grammar[state]))\n",
        "        production, state = grammar[state][index]\n",
        "        if isinstance(production, list):\n",
        "            production = generate_string(grammar=production)\n",
        "        output.append(production)\n",
        "    return \"\".join(output)"
      ],
      "metadata": {
        "id": "L88WbG9_EIKV"
      },
      "execution_count": 3,
      "outputs": []
    },
    {
      "cell_type": "code",
      "source": [
        "# 기본 레버 문법에 맞는 문자열을 몇 개 만들어 보겠습니다:\n",
        "\n",
        "for _ in range(25):\n",
        "    print(generate_string(default_reber_grammar), end=\" \")"
      ],
      "metadata": {
        "colab": {
          "base_uri": "https://localhost:8080/"
        },
        "id": "VS6JRcx4GMFL",
        "outputId": "8bcbe500-1c37-478d-8be0-40ca0dec02dc"
      },
      "execution_count": 4,
      "outputs": [
        {
          "output_type": "stream",
          "name": "stdout",
          "text": [
            "BTXXTTVPXTVPXTTVPSE BPVPSE BTXSE BPVVE BPVVE BTSXSE BPTVPXTTTVVE BPVVE BTXSE BTXXVPSE BPTTTTTTTTVVE BTXSE BPVPSE BTXSE BPTVPSE BTXXTVPSE BPVVE BPVVE BPVVE BPTTVVE BPVVE BPVVE BTXXVVE BTXXVVE BTXXVPXVVE "
          ]
        }
      ]
    },
    {
      "cell_type": "code",
      "source": [
        "# 이제 임베딩된 레버 문법에 맞는 문자열을 몇 개 만들어 보겠습니다:\n",
        "\n",
        "for _ in range(25):\n",
        "    print(generate_string(embedded_reber_grammar), end=\" \")"
      ],
      "metadata": {
        "colab": {
          "base_uri": "https://localhost:8080/"
        },
        "id": "8x2ssbzjGzk1",
        "outputId": "f783973d-0822-4393-df17-c6321ff49c4a"
      },
      "execution_count": 6,
      "outputs": [
        {
          "output_type": "stream",
          "name": "stdout",
          "text": [
            "BTBPTTTVPXTVPXTTVPSETE BPBPTVPSEPE BPBPVVEPE BPBPVPXVVEPE BPBTXXTTTTVVEPE BPBPVPSEPE BPBTXXVPSEPE BPBTSSSSSSSXSEPE BTBPVVETE BPBTXXVVEPE BPBTXXVPSEPE BTBTXXVVETE BPBPVVEPE BPBPVVEPE BPBTSXSEPE BPBPVVEPE BPBPTVPSEPE BPBTXXVVEPE BTBPTVPXVVETE BTBPVVETE BTBTSSSSSSSXXVVETE BPBTSSSXXTTTTVPSEPE BTBPTTVVETE BPBTXXTVVEPE BTBTXSETE "
          ]
        }
      ]
    },
    {
      "cell_type": "code",
      "source": [
        "# 이 문법을 따르지 않는 문자열을 생성할 함수를 만듭니다. \n",
        "# 무작위하게 문자열을 만들 수 있지만 그렇게 하면 너무 문제가 쉬워지므로 대신 문법을 따르는 문자열을 만든 후 하나의 문자만 바꾸어 놓도록 하겠습니다:\n",
        "\n",
        "POSSIBLE_CHARS = \"BEPSTVX\"\n",
        "\n",
        "def generate_corrupted_string(grammar, chars=POSSIBLE_CHARS):\n",
        "    good_string = generate_string(grammar)\n",
        "    index = np.random.randint(len(good_string))\n",
        "    good_char = good_string[index]\n",
        "    bad_char = np.random.choice(sorted(set(chars) - set(good_char)))\n",
        "    return good_string[:index] + bad_char + good_string[index + 1:]\n",
        "\n",
        "for _ in range(25):\n",
        "    print(generate_corrupted_string(embedded_reber_grammar), end=\" \")"
      ],
      "metadata": {
        "colab": {
          "base_uri": "https://localhost:8080/"
        },
        "id": "NadeOHJ3HErD",
        "outputId": "60ae61c0-29e8-475d-b138-02355343dc5f"
      },
      "execution_count": 8,
      "outputs": [
        {
          "output_type": "stream",
          "name": "stdout",
          "text": [
            "BPBTSSSSSXXTPVPXVPXTTTVVEPE BTBXTTVPSETE BEBTSSSSSXXVPXTVVETE BTBXTTVVETE BPBTXSTPE BTBTXXTTTVPSBTE BTBTXSETX BTBTSXSSTE BPBPVVEPT BTBPTVEETE BTBTSSXXTTVXETE BTBTSXTTVVETE BPBPVVTPE BTBTSXTTVVETE EPBPVPXVVEPE BPTTXSEPE BPBTXXSPXTVVEPE BTBTXSPTE BPTTSXXTVPXVVEPE PPBPVPSEPE BTBPTVETE BPTTSSSSSXSEPE BPBSVPSEPE BTBPVVESE BPBTXSEPS "
          ]
        }
      ]
    },
    {
      "cell_type": "code",
      "source": [
        "# 문자열을 바로 RNN에 주입할 수는 없기 때문에 어떤 식으로든 인코딩해야 합니다. \n",
        "# 한 가지 방법은 각 문자를 원-핫 인코딩하는 것입니다. 또 다른 방식은 임베딩을 사용하는 것입니다. \n",
        "# 두 번째 방법을 사용해 보겠습니다(문자 개수가 작다면 원-핫 인코딩도 좋은 선택일 것입니다). \n",
        "# 임베딩을 위해 각 문자열을 문자 ID의 시퀀스로 바꾸어야 합니다. \n",
        "# POSSIBLE_CHARS의 문자열 인덱스를 사용해 이런 작업을 수행하는 함수를 만들어 보겠습니다:\n",
        "\n",
        "def string_to_ids(s, chars=POSSIBLE_CHARS):\n",
        "    return [chars.index(c) for c in s]\n",
        "    \n",
        "string_to_ids(\"BTTTXXVVETE\")"
      ],
      "metadata": {
        "colab": {
          "base_uri": "https://localhost:8080/"
        },
        "id": "1EdxFHLzHWmy",
        "outputId": "00cc92f8-b6b1-420b-a9a9-6c03076c78e6"
      },
      "execution_count": 9,
      "outputs": [
        {
          "output_type": "execute_result",
          "data": {
            "text/plain": [
              "[0, 4, 4, 4, 6, 6, 5, 5, 1, 4, 1]"
            ]
          },
          "metadata": {},
          "execution_count": 9
        }
      ]
    },
    {
      "cell_type": "code",
      "source": [
        "# 이제 50%는 올바른 문자열 50%는 잘못된 문자열로 이루어진 데이터셋을 만듭니다:\n",
        "\n",
        "def generate_dataset(size):\n",
        "    good_strings = [string_to_ids(generate_string(embedded_reber_grammar))\n",
        "                    for _ in range(size // 2)]\n",
        "    bad_strings = [string_to_ids(generate_corrupted_string(embedded_reber_grammar))\n",
        "                   for _ in range(size - size // 2)]\n",
        "    all_strings = good_strings + bad_strings\n",
        "    X = tf.ragged.constant(all_strings, ragged_rank=1)\n",
        "    y = np.array([[1.] for _ in range(len(good_strings))] +\n",
        "                 [[0.] for _ in range(len(bad_strings))])\n",
        "    return X, y"
      ],
      "metadata": {
        "id": "JHRsb6cKHyYW"
      },
      "execution_count": 11,
      "outputs": []
    },
    {
      "cell_type": "code",
      "source": [
        "X_train, y_train = generate_dataset(10000)\n",
        "X_valid, y_valid = generate_dataset(2000)"
      ],
      "metadata": {
        "id": "_x2CxYnBH4lQ"
      },
      "execution_count": 12,
      "outputs": []
    },
    {
      "cell_type": "code",
      "source": [
        "# 첫 번째 훈련 샘플을 확인\n",
        "X_train[0]"
      ],
      "metadata": {
        "colab": {
          "base_uri": "https://localhost:8080/"
        },
        "id": "jPC_V59AH952",
        "outputId": "b7647350-a4dd-4539-d71a-a543a5c375e8"
      },
      "execution_count": 16,
      "outputs": [
        {
          "output_type": "execute_result",
          "data": {
            "text/plain": [
              "<tf.Tensor: shape=(9,), dtype=int32, numpy=array([0, 4, 0, 4, 6, 3, 1, 4, 1], dtype=int32)>"
            ]
          },
          "metadata": {},
          "execution_count": 16
        }
      ]
    },
    {
      "cell_type": "code",
      "source": [
        "y_train[0]"
      ],
      "metadata": {
        "colab": {
          "base_uri": "https://localhost:8080/"
        },
        "id": "w6oGzdCoIAbU",
        "outputId": "481d56da-ae05-42a8-a447-309ea766582f"
      },
      "execution_count": 14,
      "outputs": [
        {
          "output_type": "execute_result",
          "data": {
            "text/plain": [
              "array([1.])"
            ]
          },
          "metadata": {},
          "execution_count": 14
        }
      ]
    },
    {
      "cell_type": "code",
      "source": [
        "tf.random.set_seed(42)\n",
        "\n",
        "embedding_size = 5\n",
        "\n",
        "model = keras.models.Sequential([\n",
        "    keras.layers.InputLayer(input_shape=[None], dtype=tf.int32, ragged=True),\n",
        "    keras.layers.Embedding(input_dim=len(POSSIBLE_CHARS), output_dim=embedding_size),\n",
        "    keras.layers.GRU(30),\n",
        "    keras.layers.Dense(1, activation=\"sigmoid\")\n",
        "])\n",
        "optimizer = keras.optimizers.SGD(learning_rate=0.02, momentum = 0.95, nesterov=True)\n",
        "model.compile(loss=\"binary_crossentropy\", optimizer=optimizer, metrics=[\"accuracy\"])\n",
        "history = model.fit(X_train, y_train, epochs=20, validation_data=(X_valid, y_valid))"
      ],
      "metadata": {
        "colab": {
          "base_uri": "https://localhost:8080/"
        },
        "id": "TnmWOjsZIfkv",
        "outputId": "23b3b6bd-2baa-4fd4-94cd-8a87781c7650"
      },
      "execution_count": 17,
      "outputs": [
        {
          "output_type": "stream",
          "name": "stdout",
          "text": [
            "Epoch 1/20\n",
            "313/313 [==============================] - 9s 17ms/step - loss: 0.6890 - accuracy: 0.5308 - val_loss: 0.6758 - val_accuracy: 0.4840\n",
            "Epoch 2/20\n",
            "313/313 [==============================] - 5s 15ms/step - loss: 0.6621 - accuracy: 0.5755 - val_loss: 0.6560 - val_accuracy: 0.4810\n",
            "Epoch 3/20\n",
            "313/313 [==============================] - 7s 22ms/step - loss: 0.6469 - accuracy: 0.5953 - val_loss: 0.6391 - val_accuracy: 0.5775\n",
            "Epoch 4/20\n",
            "313/313 [==============================] - 5s 15ms/step - loss: 0.6224 - accuracy: 0.6157 - val_loss: 0.6170 - val_accuracy: 0.6520\n",
            "Epoch 5/20\n",
            "313/313 [==============================] - 6s 20ms/step - loss: 0.5593 - accuracy: 0.6966 - val_loss: 0.5822 - val_accuracy: 0.5495\n",
            "Epoch 6/20\n",
            "313/313 [==============================] - 5s 15ms/step - loss: 0.3978 - accuracy: 0.8172 - val_loss: 0.2529 - val_accuracy: 0.9115\n",
            "Epoch 7/20\n",
            "313/313 [==============================] - 6s 19ms/step - loss: 0.2051 - accuracy: 0.9275 - val_loss: 0.1391 - val_accuracy: 0.9550\n",
            "Epoch 8/20\n",
            "313/313 [==============================] - 5s 15ms/step - loss: 0.1273 - accuracy: 0.9590 - val_loss: 0.0423 - val_accuracy: 0.9955\n",
            "Epoch 9/20\n",
            "313/313 [==============================] - 7s 21ms/step - loss: 0.1798 - accuracy: 0.9277 - val_loss: 0.2423 - val_accuracy: 0.9080\n",
            "Epoch 10/20\n",
            "313/313 [==============================] - 5s 15ms/step - loss: 0.1303 - accuracy: 0.9632 - val_loss: 0.0874 - val_accuracy: 0.9780\n",
            "Epoch 11/20\n",
            "313/313 [==============================] - 6s 20ms/step - loss: 0.0471 - accuracy: 0.9879 - val_loss: 0.0045 - val_accuracy: 1.0000\n",
            "Epoch 12/20\n",
            "313/313 [==============================] - 5s 15ms/step - loss: 0.0116 - accuracy: 0.9979 - val_loss: 0.0431 - val_accuracy: 0.9875\n",
            "Epoch 13/20\n",
            "313/313 [==============================] - 7s 21ms/step - loss: 0.0278 - accuracy: 0.9920 - val_loss: 0.0020 - val_accuracy: 1.0000\n",
            "Epoch 14/20\n",
            "313/313 [==============================] - 5s 15ms/step - loss: 0.0011 - accuracy: 1.0000 - val_loss: 4.1841e-04 - val_accuracy: 1.0000\n",
            "Epoch 15/20\n",
            "313/313 [==============================] - 6s 20ms/step - loss: 3.6744e-04 - accuracy: 1.0000 - val_loss: 2.9676e-04 - val_accuracy: 1.0000\n",
            "Epoch 16/20\n",
            "313/313 [==============================] - 5s 15ms/step - loss: 2.8592e-04 - accuracy: 1.0000 - val_loss: 2.4746e-04 - val_accuracy: 1.0000\n",
            "Epoch 17/20\n",
            "313/313 [==============================] - 7s 21ms/step - loss: 2.4373e-04 - accuracy: 1.0000 - val_loss: 2.1604e-04 - val_accuracy: 1.0000\n",
            "Epoch 18/20\n",
            "313/313 [==============================] - 5s 15ms/step - loss: 2.1550e-04 - accuracy: 1.0000 - val_loss: 1.9392e-04 - val_accuracy: 1.0000\n",
            "Epoch 19/20\n",
            "313/313 [==============================] - 5s 17ms/step - loss: 1.9442e-04 - accuracy: 1.0000 - val_loss: 1.7668e-04 - val_accuracy: 1.0000\n",
            "Epoch 20/20\n",
            "313/313 [==============================] - 5s 15ms/step - loss: 1.7757e-04 - accuracy: 1.0000 - val_loss: 1.6257e-04 - val_accuracy: 1.0000\n"
          ]
        }
      ]
    },
    {
      "cell_type": "code",
      "source": [
        "test_strings = [\"BPBTSSSSSSSXXTTVPXVPXTTTTTVVETE\",\n",
        "                \"BPBTSSSSSSSXXTTVPXVPXTTTTTVVEPE\"]\n",
        "X_test = tf.ragged.constant([string_to_ids(s) for s in test_strings], ragged_rank=1)\n",
        "\n",
        "y_proba = model.predict(X_test)\n",
        "print()\n",
        "print(\"레버 문자열일 추정 확률:\")\n",
        "for index, string in enumerate(test_strings):\n",
        "    print(\"{}: {:.2f}%\".format(string, 100 * y_proba[index][0]))"
      ],
      "metadata": {
        "colab": {
          "base_uri": "https://localhost:8080/"
        },
        "id": "8GnhVMx5I0dK",
        "outputId": "4a85f0bf-e95b-40dd-cada-58633ac275df"
      },
      "execution_count": 18,
      "outputs": [
        {
          "output_type": "stream",
          "name": "stdout",
          "text": [
            "1/1 [==============================] - 0s 460ms/step\n",
            "\n",
            "레버 문자열일 추정 확률:\n",
            "BPBTSSSSSSSXXTTVPXVPXTTTTTVVETE: 0.00%\n",
            "BPBTSSSSSSSXXTTVPXVPXTTTTTVVEPE: 99.03%\n"
          ]
        }
      ]
    },
    {
      "cell_type": "code",
      "source": [],
      "metadata": {
        "id": "YRxjILbxI5GM"
      },
      "execution_count": null,
      "outputs": []
    }
  ]
}