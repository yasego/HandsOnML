{
  "nbformat": 4,
  "nbformat_minor": 0,
  "metadata": {
    "colab": {
      "provenance": [],
      "authorship_tag": "ABX9TyN8z/i2EE8i1FlUPemchf27",
      "include_colab_link": true
    },
    "kernelspec": {
      "name": "python3",
      "display_name": "Python 3"
    },
    "language_info": {
      "name": "python"
    }
  },
  "cells": [
    {
      "cell_type": "markdown",
      "metadata": {
        "id": "view-in-github",
        "colab_type": "text"
      },
      "source": [
        "<a href=\"https://colab.research.google.com/github/yasego/HandsOnML/blob/main/Ch3_exercise.ipynb\" target=\"_parent\"><img src=\"https://colab.research.google.com/assets/colab-badge.svg\" alt=\"Open In Colab\"/></a>"
      ]
    },
    {
      "cell_type": "markdown",
      "source": [
        "1.  MNIST 데이터 셋으로 분류기 만들어서 테스트 세트에서 97% 정확도 달성하기\n",
        "KnighborsClassifier 사용하고 weights와 n_neighbors 하이퍼 파라미터로 그리드 탐색 시도"
      ],
      "metadata": {
        "id": "XdC-WogGckV_"
      }
    },
    {
      "cell_type": "code",
      "source": [
        "from sklearn.datasets import fetch_openml\n",
        "mnist =fetch_openml('mnist_784',version=1, as_frame=False)"
      ],
      "metadata": {
        "id": "8f07VS3vdVZF"
      },
      "execution_count": null,
      "outputs": []
    },
    {
      "cell_type": "code",
      "source": [
        "import numpy as np"
      ],
      "metadata": {
        "id": "EpSt-QMNkDV7"
      },
      "execution_count": null,
      "outputs": []
    },
    {
      "cell_type": "code",
      "source": [
        "X,y = mnist[\"data\"], mnist[\"target\"]\n",
        "y = y.astype(np.uint8)\n",
        "X_train, X_test, y_train, y_test = X[:60000], X[60000:],y[:60000],y[60000:] "
      ],
      "metadata": {
        "id": "OYymlpVZdim-"
      },
      "execution_count": null,
      "outputs": []
    },
    {
      "cell_type": "code",
      "source": [
        "from sklearn.neighbors import KNeighborsClassifier\n",
        "from sklearn.model_selection import GridSearchCV\n",
        "\n",
        "param_grid = [{'weights': [\"uniform\", \"distance\"], 'n_neighbors': [3, 4, 5]}]\n",
        "\n",
        "knn_clf = KNeighborsClassifier()\n",
        "grid_search = GridSearchCV(knn_clf, param_grid, cv=5, verbose=3)\n",
        "grid_search.fit(X_train, y_train)\n"
      ],
      "metadata": {
        "colab": {
          "base_uri": "https://localhost:8080/"
        },
        "id": "h1DYZtCNgWet",
        "outputId": "0bd25104-0861-4385-a028-dbb187634544"
      },
      "execution_count": null,
      "outputs": [
        {
          "output_type": "stream",
          "name": "stdout",
          "text": [
            "Fitting 5 folds for each of 6 candidates, totalling 30 fits\n",
            "[CV 1/5] END ....n_neighbors=3, weights=uniform;, score=0.972 total time=  32.7s\n",
            "[CV 2/5] END ....n_neighbors=3, weights=uniform;, score=0.971 total time=  32.0s\n",
            "[CV 3/5] END ....n_neighbors=3, weights=uniform;, score=0.969 total time=  34.5s\n",
            "[CV 4/5] END ....n_neighbors=3, weights=uniform;, score=0.969 total time=  33.4s\n",
            "[CV 5/5] END ....n_neighbors=3, weights=uniform;, score=0.970 total time=  35.2s\n",
            "[CV 1/5] END ...n_neighbors=3, weights=distance;, score=0.972 total time=  33.4s\n",
            "[CV 2/5] END ...n_neighbors=3, weights=distance;, score=0.972 total time=  33.0s\n",
            "[CV 3/5] END ...n_neighbors=3, weights=distance;, score=0.970 total time=  32.3s\n",
            "[CV 4/5] END ...n_neighbors=3, weights=distance;, score=0.970 total time=  32.3s\n",
            "[CV 5/5] END ...n_neighbors=3, weights=distance;, score=0.971 total time=  33.7s\n",
            "[CV 1/5] END ....n_neighbors=4, weights=uniform;, score=0.969 total time=  36.0s\n",
            "[CV 2/5] END ....n_neighbors=4, weights=uniform;, score=0.968 total time=  36.1s\n",
            "[CV 3/5] END ....n_neighbors=4, weights=uniform;, score=0.968 total time=  35.9s\n",
            "[CV 4/5] END ....n_neighbors=4, weights=uniform;, score=0.967 total time=  37.4s\n",
            "[CV 5/5] END ....n_neighbors=4, weights=uniform;, score=0.970 total time=  36.4s\n",
            "[CV 1/5] END ...n_neighbors=4, weights=distance;, score=0.973 total time=  35.7s\n",
            "[CV 2/5] END ...n_neighbors=4, weights=distance;, score=0.972 total time=  37.1s\n",
            "[CV 3/5] END ...n_neighbors=4, weights=distance;, score=0.970 total time=  35.5s\n",
            "[CV 4/5] END ...n_neighbors=4, weights=distance;, score=0.971 total time=  35.9s\n",
            "[CV 5/5] END ...n_neighbors=4, weights=distance;, score=0.972 total time=  36.1s\n",
            "[CV 1/5] END ....n_neighbors=5, weights=uniform;, score=0.970 total time=  36.8s\n",
            "[CV 2/5] END ....n_neighbors=5, weights=uniform;, score=0.970 total time=  37.9s\n",
            "[CV 3/5] END ....n_neighbors=5, weights=uniform;, score=0.969 total time=  36.0s\n",
            "[CV 4/5] END ....n_neighbors=5, weights=uniform;, score=0.968 total time=  37.0s\n",
            "[CV 5/5] END ....n_neighbors=5, weights=uniform;, score=0.969 total time=  36.4s\n",
            "[CV 1/5] END ...n_neighbors=5, weights=distance;, score=0.970 total time=  35.6s\n",
            "[CV 2/5] END ...n_neighbors=5, weights=distance;, score=0.971 total time=  35.7s\n",
            "[CV 3/5] END ...n_neighbors=5, weights=distance;, score=0.970 total time=  36.5s\n",
            "[CV 4/5] END ...n_neighbors=5, weights=distance;, score=0.969 total time=  35.9s\n",
            "[CV 5/5] END ...n_neighbors=5, weights=distance;, score=0.971 total time=  36.0s\n"
          ]
        },
        {
          "output_type": "execute_result",
          "data": {
            "text/plain": [
              "GridSearchCV(cv=5, estimator=KNeighborsClassifier(),\n",
              "             param_grid=[{'n_neighbors': [3, 4, 5],\n",
              "                          'weights': ['uniform', 'distance']}],\n",
              "             verbose=3)"
            ]
          },
          "metadata": {},
          "execution_count": 9
        }
      ]
    },
    {
      "cell_type": "code",
      "source": [
        "from sklearn.metrics import accuracy_score\n",
        "\n",
        "y_pred = grid_search.predict(X_test)\n",
        "accuracy_score(y_test, y_pred)"
      ],
      "metadata": {
        "colab": {
          "base_uri": "https://localhost:8080/"
        },
        "id": "fi4RFugbiJNe",
        "outputId": "512218bb-5f6d-4e95-ca75-1930b0513d54"
      },
      "execution_count": null,
      "outputs": [
        {
          "output_type": "execute_result",
          "data": {
            "text/plain": [
              "0.9714"
            ]
          },
          "metadata": {},
          "execution_count": 11
        }
      ]
    },
    {
      "cell_type": "markdown",
      "source": [
        "2. MNIST 이미지를 왼, 오른, 위, 아래, 어느 방향으로든 1픽셀씩 이동시키는 함수 작성. 훈련세트의 4개의 복사본으르 만들어 훈련세트에 추가. 테이터 증식 또는 훈련세트 확장"
      ],
      "metadata": {
        "id": "Rd4i8D71vlPj"
      }
    },
    {
      "cell_type": "code",
      "source": [
        "from scipy.ndimage.interpolation import shift\n",
        "def shift_image(image, dx, dy):\n",
        "    image = image.reshape((28, 28))\n",
        "    shifted_image = shift(image, [dy, dx], cval=0, mode=\"constant\")\n",
        "    return shifted_image.reshape([-1])   #1차원 배열로 바꾸기 위해서 reshape([-1]) 옵션을 줌"
      ],
      "metadata": {
        "id": "H07atllIvl1L"
      },
      "execution_count": null,
      "outputs": []
    },
    {
      "cell_type": "code",
      "source": [
        "X_train_augmented = [image for image in X_train]\n",
        "y_train_augmented = [label for label in y_train]"
      ],
      "metadata": {
        "id": "xaKbV0yX0WG0"
      },
      "execution_count": null,
      "outputs": []
    },
    {
      "cell_type": "code",
      "source": [
        "for dx, dy in ((1, 0), (-1, 0), (0, 1), (0, -1)):\n",
        "    for image, label in zip(X_train, y_train):\n",
        "        X_train_augmented.append(shift_image(image, dx, dy))\n",
        "        y_train_augmented.append(label)\n",
        "\n",
        "X_train_augmented = np.array(X_train_augmented)\n",
        "y_train_augmented = np.array(y_train_augmented)"
      ],
      "metadata": {
        "id": "iNoMe3rcx660"
      },
      "execution_count": null,
      "outputs": []
    },
    {
      "cell_type": "code",
      "source": [
        "shuffle_idx = np.random.permutation(len(X_train_augmented))\n",
        "X_train_augmented = X_train_augmented[shuffle_idx]\n",
        "y_train_augmented = y_train_augmented[shuffle_idx]"
      ],
      "metadata": {
        "id": "ZcmZ_4BczXZL"
      },
      "execution_count": null,
      "outputs": []
    },
    {
      "cell_type": "code",
      "source": [
        "knn_clf = KNeighborsClassifier(**grid_search.best_params_)\n",
        "knn_clf.fit(X_train_augmented, y_train_augmented)\n",
        "\n",
        "y_pred = knn_clf.predict(X_test)\n",
        "accuracy_score(y_test, y_pred)"
      ],
      "metadata": {
        "colab": {
          "base_uri": "https://localhost:8080/"
        },
        "id": "zNr05hUAzbHU",
        "outputId": "1a033e66-af0c-4910-e509-c22ab202fea7"
      },
      "execution_count": null,
      "outputs": [
        {
          "output_type": "execute_result",
          "data": {
            "text/plain": [
              "0.9763"
            ]
          },
          "metadata": {},
          "execution_count": 26
        }
      ]
    }
  ]
}